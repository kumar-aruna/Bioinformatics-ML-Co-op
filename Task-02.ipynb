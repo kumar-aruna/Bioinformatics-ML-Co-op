{
 "cells": [
  {
   "cell_type": "code",
   "execution_count": 21,
   "id": "93dfd4f8",
   "metadata": {
    "pycharm": {
     "name": "#%%\n"
    }
   },
   "outputs": [],
   "source": [
    "# STEP 01: Download the dataset"
   ]
  },
  {
   "cell_type": "code",
   "execution_count": 22,
   "id": "622e4512",
   "metadata": {
    "pycharm": {
     "name": "#%%\n"
    }
   },
   "outputs": [],
   "source": [
    "# First we need to ensure that we have the necessary libraries:\n"
   ]
  },
  {
   "cell_type": "code",
   "execution_count": 23,
   "id": "7d31744e",
   "metadata": {
    "pycharm": {
     "name": "#%%\n"
    }
   },
   "outputs": [],
   "source": [
    "import pandas as pd\n",
    "import numpy as np\n",
    "import xgboost as xgb\n",
    "from sklearn.model_selection import train_test_split\n",
    "from sklearn.metrics import mean_squared_error\n",
    "from math import exp, log\n",
    "\n"
   ]
  },
  {
   "cell_type": "code",
   "execution_count": 24,
   "id": "6b735da0",
   "metadata": {
    "pycharm": {
     "name": "#%%\n"
    }
   },
   "outputs": [],
   "source": [
    "# Download and load the dataset"
   ]
  },
  {
   "cell_type": "code",
   "execution_count": 25,
   "id": "7b3cb195",
   "metadata": {
    "pycharm": {
     "name": "#%%\n"
    }
   },
   "outputs": [],
   "source": [
    "data_url = \"http://129.10.224.71/~apaul/data/tests/dataset.csv.gz\"\n",
    "df = pd.read_csv(data_url, compression='gzip')\n"
   ]
  },
  {
   "cell_type": "code",
   "execution_count": 26,
   "id": "c071e57a",
   "metadata": {
    "pycharm": {
     "name": "#%%\n"
    }
   },
   "outputs": [],
   "source": [
    "# Step 2: Data Preprocessing\n",
    "# Apply the given transformations to x1 and either y1 or y2:"
   ]
  },
  {
   "cell_type": "code",
   "execution_count": 27,
   "id": "cfff3711",
   "metadata": {
    "pycharm": {
     "name": "#%%\n"
    }
   },
   "outputs": [],
   "source": [
    "def x_scale(x, p=7.5):\n",
    "    return 1/p * np.log(1 + x * (np.exp(p) - 1))\n",
    "\n",
    "def y_scale(y):\n",
    "    return np.log(1 + y) if y >= 0 else -np.log(1 - y)\n",
    "\n",
    "# Apply transformations\n",
    "df['x1'] = df['x1'].apply(x_scale)\n",
    "df['y1'] = df['y1'].apply(y_scale)  # Assuming you choose y1 for regression\n"
   ]
  },
  {
   "cell_type": "code",
   "execution_count": 28,
   "id": "8a3945e6",
   "metadata": {
    "pycharm": {
     "name": "#%%\n"
    }
   },
   "outputs": [],
   "source": [
    "# Step 3: Splitting the Data\n",
    "# We need to split the data into training, validning and testing sets.\n",
    "# We split the data in the way that it balance between having enough data for traing, for validation and for testing\n",
    "# 60% of data for training, 20% for validation, and the remaining 20% for testing. \n",
    "\n"
   ]
  },
  {
   "cell_type": "code",
   "execution_count": 29,
   "id": "af35620b",
   "metadata": {
    "pycharm": {
     "name": "#%%\n"
    }
   },
   "outputs": [],
   "source": [
    "X = df[['x1', 'x2', 'x3', 'x4']]\n",
    "y = df['y1']  # Assuming y1 is the target\n",
    "\n",
    "X_train, X_temp, y_train, y_temp = train_test_split(X, y, test_size=0.4, random_state=42)\n",
    "X_val, X_test, y_val, y_test = train_test_split(X_temp, y_temp, test_size=0.5, random_state=42)\n"
   ]
  },
  {
   "cell_type": "code",
   "execution_count": 30,
   "id": "34a0ae75",
   "metadata": {
    "pycharm": {
     "name": "#%%\n"
    }
   },
   "outputs": [],
   "source": [
    "# Step 4: Model Training and Hyperparameter Tuning\n",
    "\n",
    "# When we are constructing a boosted decision tree with xgboost, there are several key hyperparameters need consideration.\n",
    "\n",
    "# learning_rate (eta): Controls how quickly the model fits the residual error using additional trees.\n",
    "# A lower value requires more trees but can lead to a more accurate model.\n",
    "# max_depth: Determines how deep each tree can grow during any boosting round. \n",
    "# Deeper trees can model more complex patterns but might overfit.\n",
    "# n_estimators: Number of trees. Too many trees can overfit, so tuning is necessary.\n",
    "# subsample: The fraction of samples to be used for fitting each tree, which can help prevent overfitting.\n",
    "# colsample_bytree: The fraction of features to use when constructing each tree. \n",
    "# Using a subset of all features can help prevent overfitting.\n"
   ]
  },
  {
   "cell_type": "code",
   "execution_count": 20,
   "id": "bb927afb",
   "metadata": {
    "pycharm": {
     "name": "#%%\n"
    }
   },
   "outputs": [
    {
     "name": "stdout",
     "output_type": "stream",
     "text": [
      "[0]\tvalidation_0-rmse:3.62110\n",
      "[1]\tvalidation_0-rmse:3.28155\n",
      "[2]\tvalidation_0-rmse:3.27446\n",
      "[3]\tvalidation_0-rmse:2.97034\n"
     ]
    },
    {
     "name": "stderr",
     "output_type": "stream",
     "text": [
      "/Users/aruna/.pyenv/versions/3.8.9/envs/jupyterenv/lib/python3.8/site-packages/xgboost/sklearn.py:889: UserWarning: `early_stopping_rounds` in `fit` method is deprecated for better compatibility with scikit-learn, use `early_stopping_rounds` in constructor or`set_params` instead.\n",
      "  warnings.warn(\n"
     ]
    },
    {
     "name": "stdout",
     "output_type": "stream",
     "text": [
      "[4]\tvalidation_0-rmse:2.69871\n",
      "[5]\tvalidation_0-rmse:2.69169\n",
      "[6]\tvalidation_0-rmse:2.68576\n",
      "[7]\tvalidation_0-rmse:2.44229\n",
      "[8]\tvalidation_0-rmse:2.43700\n",
      "[9]\tvalidation_0-rmse:2.21962\n",
      "[10]\tvalidation_0-rmse:2.02581\n",
      "[11]\tvalidation_0-rmse:2.02061\n",
      "[12]\tvalidation_0-rmse:1.84788\n",
      "[13]\tvalidation_0-rmse:1.69466\n",
      "[14]\tvalidation_0-rmse:1.55855\n",
      "[15]\tvalidation_0-rmse:1.55317\n",
      "[16]\tvalidation_0-rmse:1.54875\n",
      "[17]\tvalidation_0-rmse:1.42957\n",
      "[18]\tvalidation_0-rmse:1.32172\n",
      "[19]\tvalidation_0-rmse:1.22719\n",
      "[20]\tvalidation_0-rmse:1.14535\n",
      "[21]\tvalidation_0-rmse:1.07403\n",
      "[22]\tvalidation_0-rmse:1.06910\n",
      "[23]\tvalidation_0-rmse:1.00791\n",
      "[24]\tvalidation_0-rmse:0.95539\n",
      "[25]\tvalidation_0-rmse:0.90788\n",
      "[26]\tvalidation_0-rmse:0.86907\n",
      "[27]\tvalidation_0-rmse:0.83398\n",
      "[28]\tvalidation_0-rmse:0.80627\n",
      "[29]\tvalidation_0-rmse:0.80123\n",
      "[30]\tvalidation_0-rmse:0.77446\n",
      "[31]\tvalidation_0-rmse:0.75458\n",
      "[32]\tvalidation_0-rmse:0.73288\n",
      "[33]\tvalidation_0-rmse:0.72851\n",
      "[34]\tvalidation_0-rmse:0.70826\n",
      "[35]\tvalidation_0-rmse:0.69357\n",
      "[36]\tvalidation_0-rmse:0.67842\n",
      "[37]\tvalidation_0-rmse:0.66469\n",
      "[38]\tvalidation_0-rmse:0.65408\n",
      "[39]\tvalidation_0-rmse:0.64806\n",
      "[40]\tvalidation_0-rmse:0.64031\n",
      "[41]\tvalidation_0-rmse:0.63677\n",
      "[42]\tvalidation_0-rmse:0.63259\n",
      "[43]\tvalidation_0-rmse:0.62953\n",
      "[44]\tvalidation_0-rmse:0.62106\n",
      "[45]\tvalidation_0-rmse:0.61790\n",
      "[46]\tvalidation_0-rmse:0.60808\n",
      "[47]\tvalidation_0-rmse:0.59822\n",
      "[48]\tvalidation_0-rmse:0.58939\n",
      "[49]\tvalidation_0-rmse:0.58385\n",
      "[50]\tvalidation_0-rmse:0.57364\n",
      "[51]\tvalidation_0-rmse:0.57129\n",
      "[52]\tvalidation_0-rmse:0.56473\n",
      "[53]\tvalidation_0-rmse:0.56286\n",
      "[54]\tvalidation_0-rmse:0.55538\n",
      "[55]\tvalidation_0-rmse:0.55404\n",
      "[56]\tvalidation_0-rmse:0.55023\n",
      "[57]\tvalidation_0-rmse:0.54909\n",
      "[58]\tvalidation_0-rmse:0.54172\n",
      "[59]\tvalidation_0-rmse:0.54102\n",
      "[60]\tvalidation_0-rmse:0.53897\n",
      "[61]\tvalidation_0-rmse:0.53775\n",
      "[62]\tvalidation_0-rmse:0.53193\n",
      "[63]\tvalidation_0-rmse:0.52489\n",
      "[64]\tvalidation_0-rmse:0.52004\n",
      "[65]\tvalidation_0-rmse:0.51907\n",
      "[66]\tvalidation_0-rmse:0.51584\n",
      "[67]\tvalidation_0-rmse:0.51165\n",
      "[68]\tvalidation_0-rmse:0.51063\n",
      "[69]\tvalidation_0-rmse:0.50762\n",
      "[70]\tvalidation_0-rmse:0.50347\n",
      "[71]\tvalidation_0-rmse:0.50183\n",
      "[72]\tvalidation_0-rmse:0.50111\n",
      "[73]\tvalidation_0-rmse:0.49535\n",
      "[74]\tvalidation_0-rmse:0.49454\n",
      "[75]\tvalidation_0-rmse:0.49216\n",
      "[76]\tvalidation_0-rmse:0.48860\n",
      "[77]\tvalidation_0-rmse:0.48718\n",
      "[78]\tvalidation_0-rmse:0.48534\n",
      "[79]\tvalidation_0-rmse:0.48455\n",
      "[80]\tvalidation_0-rmse:0.48365\n",
      "[81]\tvalidation_0-rmse:0.48270\n",
      "[82]\tvalidation_0-rmse:0.48213\n",
      "[83]\tvalidation_0-rmse:0.47815\n",
      "[84]\tvalidation_0-rmse:0.47476\n",
      "[85]\tvalidation_0-rmse:0.47337\n",
      "[86]\tvalidation_0-rmse:0.46793\n",
      "[87]\tvalidation_0-rmse:0.46332\n",
      "[88]\tvalidation_0-rmse:0.46288\n",
      "[89]\tvalidation_0-rmse:0.46248\n",
      "[90]\tvalidation_0-rmse:0.46098\n",
      "[91]\tvalidation_0-rmse:0.45897\n",
      "[92]\tvalidation_0-rmse:0.45806\n",
      "[93]\tvalidation_0-rmse:0.45773\n",
      "[94]\tvalidation_0-rmse:0.45745\n",
      "[95]\tvalidation_0-rmse:0.45707\n",
      "[96]\tvalidation_0-rmse:0.45696\n",
      "[97]\tvalidation_0-rmse:0.45678\n",
      "[98]\tvalidation_0-rmse:0.45672\n",
      "[99]\tvalidation_0-rmse:0.45578\n"
     ]
    },
    {
     "data": {
      "text/html": [
       "<style>#sk-container-id-2 {color: black;}#sk-container-id-2 pre{padding: 0;}#sk-container-id-2 div.sk-toggleable {background-color: white;}#sk-container-id-2 label.sk-toggleable__label {cursor: pointer;display: block;width: 100%;margin-bottom: 0;padding: 0.3em;box-sizing: border-box;text-align: center;}#sk-container-id-2 label.sk-toggleable__label-arrow:before {content: \"▸\";float: left;margin-right: 0.25em;color: #696969;}#sk-container-id-2 label.sk-toggleable__label-arrow:hover:before {color: black;}#sk-container-id-2 div.sk-estimator:hover label.sk-toggleable__label-arrow:before {color: black;}#sk-container-id-2 div.sk-toggleable__content {max-height: 0;max-width: 0;overflow: hidden;text-align: left;background-color: #f0f8ff;}#sk-container-id-2 div.sk-toggleable__content pre {margin: 0.2em;color: black;border-radius: 0.25em;background-color: #f0f8ff;}#sk-container-id-2 input.sk-toggleable__control:checked~div.sk-toggleable__content {max-height: 200px;max-width: 100%;overflow: auto;}#sk-container-id-2 input.sk-toggleable__control:checked~label.sk-toggleable__label-arrow:before {content: \"▾\";}#sk-container-id-2 div.sk-estimator input.sk-toggleable__control:checked~label.sk-toggleable__label {background-color: #d4ebff;}#sk-container-id-2 div.sk-label input.sk-toggleable__control:checked~label.sk-toggleable__label {background-color: #d4ebff;}#sk-container-id-2 input.sk-hidden--visually {border: 0;clip: rect(1px 1px 1px 1px);clip: rect(1px, 1px, 1px, 1px);height: 1px;margin: -1px;overflow: hidden;padding: 0;position: absolute;width: 1px;}#sk-container-id-2 div.sk-estimator {font-family: monospace;background-color: #f0f8ff;border: 1px dotted black;border-radius: 0.25em;box-sizing: border-box;margin-bottom: 0.5em;}#sk-container-id-2 div.sk-estimator:hover {background-color: #d4ebff;}#sk-container-id-2 div.sk-parallel-item::after {content: \"\";width: 100%;border-bottom: 1px solid gray;flex-grow: 1;}#sk-container-id-2 div.sk-label:hover label.sk-toggleable__label {background-color: #d4ebff;}#sk-container-id-2 div.sk-serial::before {content: \"\";position: absolute;border-left: 1px solid gray;box-sizing: border-box;top: 0;bottom: 0;left: 50%;z-index: 0;}#sk-container-id-2 div.sk-serial {display: flex;flex-direction: column;align-items: center;background-color: white;padding-right: 0.2em;padding-left: 0.2em;position: relative;}#sk-container-id-2 div.sk-item {position: relative;z-index: 1;}#sk-container-id-2 div.sk-parallel {display: flex;align-items: stretch;justify-content: center;background-color: white;position: relative;}#sk-container-id-2 div.sk-item::before, #sk-container-id-2 div.sk-parallel-item::before {content: \"\";position: absolute;border-left: 1px solid gray;box-sizing: border-box;top: 0;bottom: 0;left: 50%;z-index: -1;}#sk-container-id-2 div.sk-parallel-item {display: flex;flex-direction: column;z-index: 1;position: relative;background-color: white;}#sk-container-id-2 div.sk-parallel-item:first-child::after {align-self: flex-end;width: 50%;}#sk-container-id-2 div.sk-parallel-item:last-child::after {align-self: flex-start;width: 50%;}#sk-container-id-2 div.sk-parallel-item:only-child::after {width: 0;}#sk-container-id-2 div.sk-dashed-wrapped {border: 1px dashed gray;margin: 0 0.4em 0.5em 0.4em;box-sizing: border-box;padding-bottom: 0.4em;background-color: white;}#sk-container-id-2 div.sk-label label {font-family: monospace;font-weight: bold;display: inline-block;line-height: 1.2em;}#sk-container-id-2 div.sk-label-container {text-align: center;}#sk-container-id-2 div.sk-container {/* jupyter's `normalize.less` sets `[hidden] { display: none; }` but bootstrap.min.css set `[hidden] { display: none !important; }` so we also need the `!important` here to be able to override the default hidden behavior on the sphinx rendered scikit-learn.org. See: https://github.com/scikit-learn/scikit-learn/issues/21755 */display: inline-block !important;position: relative;}#sk-container-id-2 div.sk-text-repr-fallback {display: none;}</style><div id=\"sk-container-id-2\" class=\"sk-top-container\"><div class=\"sk-text-repr-fallback\"><pre>XGBRegressor(base_score=None, booster=None, callbacks=None,\n",
       "             colsample_bylevel=None, colsample_bynode=None,\n",
       "             colsample_bytree=0.8, device=None, early_stopping_rounds=None,\n",
       "             enable_categorical=False, eval_metric=None, feature_types=None,\n",
       "             gamma=None, grow_policy=None, importance_type=None,\n",
       "             interaction_constraints=None, learning_rate=0.1, max_bin=None,\n",
       "             max_cat_threshold=None, max_cat_to_onehot=None,\n",
       "             max_delta_step=None, max_depth=5, max_leaves=None,\n",
       "             min_child_weight=None, missing=nan, monotone_constraints=None,\n",
       "             multi_strategy=None, n_estimators=100, n_jobs=None,\n",
       "             num_parallel_tree=None, random_state=None, ...)</pre><b>In a Jupyter environment, please rerun this cell to show the HTML representation or trust the notebook. <br />On GitHub, the HTML representation is unable to render, please try loading this page with nbviewer.org.</b></div><div class=\"sk-container\" hidden><div class=\"sk-item\"><div class=\"sk-estimator sk-toggleable\"><input class=\"sk-toggleable__control sk-hidden--visually\" id=\"sk-estimator-id-2\" type=\"checkbox\" checked><label for=\"sk-estimator-id-2\" class=\"sk-toggleable__label sk-toggleable__label-arrow\">XGBRegressor</label><div class=\"sk-toggleable__content\"><pre>XGBRegressor(base_score=None, booster=None, callbacks=None,\n",
       "             colsample_bylevel=None, colsample_bynode=None,\n",
       "             colsample_bytree=0.8, device=None, early_stopping_rounds=None,\n",
       "             enable_categorical=False, eval_metric=None, feature_types=None,\n",
       "             gamma=None, grow_policy=None, importance_type=None,\n",
       "             interaction_constraints=None, learning_rate=0.1, max_bin=None,\n",
       "             max_cat_threshold=None, max_cat_to_onehot=None,\n",
       "             max_delta_step=None, max_depth=5, max_leaves=None,\n",
       "             min_child_weight=None, missing=nan, monotone_constraints=None,\n",
       "             multi_strategy=None, n_estimators=100, n_jobs=None,\n",
       "             num_parallel_tree=None, random_state=None, ...)</pre></div></div></div></div></div>"
      ],
      "text/plain": [
       "XGBRegressor(base_score=None, booster=None, callbacks=None,\n",
       "             colsample_bylevel=None, colsample_bynode=None,\n",
       "             colsample_bytree=0.8, device=None, early_stopping_rounds=None,\n",
       "             enable_categorical=False, eval_metric=None, feature_types=None,\n",
       "             gamma=None, grow_policy=None, importance_type=None,\n",
       "             interaction_constraints=None, learning_rate=0.1, max_bin=None,\n",
       "             max_cat_threshold=None, max_cat_to_onehot=None,\n",
       "             max_delta_step=None, max_depth=5, max_leaves=None,\n",
       "             min_child_weight=None, missing=nan, monotone_constraints=None,\n",
       "             multi_strategy=None, n_estimators=100, n_jobs=None,\n",
       "             num_parallel_tree=None, random_state=None, ...)"
      ]
     },
     "execution_count": 20,
     "metadata": {},
     "output_type": "execute_result"
    }
   ],
   "source": [
    "model = xgb.XGBRegressor(objective='reg:squarederror', learning_rate=0.1, max_depth=5, n_estimators=100, subsample=0.8, colsample_bytree=0.8)\n",
    "model.fit(X_train, y_train, early_stopping_rounds=10, eval_set=[(X_val, y_val)], verbose=True)\n"
   ]
  },
  {
   "cell_type": "code",
   "execution_count": 6,
   "id": "5e559c31",
   "metadata": {
    "pycharm": {
     "name": "#%%\n"
    }
   },
   "outputs": [
    {
     "name": "stdout",
     "output_type": "stream",
     "text": [
      "[0]\tvalidation_0-rmse:3.29012\n",
      "[1]\tvalidation_0-rmse:2.98733\n",
      "[2]\tvalidation_0-rmse:2.71728\n",
      "[3]\tvalidation_0-rmse:2.47655\n",
      "[4]\tvalidation_0-rmse:2.25962\n",
      "[5]\tvalidation_0-rmse:2.06613\n"
     ]
    },
    {
     "name": "stderr",
     "output_type": "stream",
     "text": [
      "/Users/aruna/.pyenv/versions/3.8.9/envs/jupyterenv/lib/python3.8/site-packages/xgboost/sklearn.py:889: UserWarning: `early_stopping_rounds` in `fit` method is deprecated for better compatibility with scikit-learn, use `early_stopping_rounds` in constructor or`set_params` instead.\n",
      "  warnings.warn(\n"
     ]
    },
    {
     "name": "stdout",
     "output_type": "stream",
     "text": [
      "[6]\tvalidation_0-rmse:1.89293\n",
      "[7]\tvalidation_0-rmse:1.74041\n",
      "[8]\tvalidation_0-rmse:1.60560\n",
      "[9]\tvalidation_0-rmse:1.48645\n",
      "[10]\tvalidation_0-rmse:1.38095\n",
      "[11]\tvalidation_0-rmse:1.28905\n",
      "[12]\tvalidation_0-rmse:1.20259\n",
      "[13]\tvalidation_0-rmse:1.13113\n",
      "[14]\tvalidation_0-rmse:1.06505\n",
      "[15]\tvalidation_0-rmse:1.00593\n",
      "[16]\tvalidation_0-rmse:0.95645\n",
      "[17]\tvalidation_0-rmse:0.91365\n",
      "[18]\tvalidation_0-rmse:0.86908\n",
      "[19]\tvalidation_0-rmse:0.82926\n",
      "[20]\tvalidation_0-rmse:0.79369\n",
      "[21]\tvalidation_0-rmse:0.76093\n",
      "[22]\tvalidation_0-rmse:0.72995\n",
      "[23]\tvalidation_0-rmse:0.70680\n",
      "[24]\tvalidation_0-rmse:0.67815\n",
      "[25]\tvalidation_0-rmse:0.65122\n",
      "[26]\tvalidation_0-rmse:0.63286\n",
      "[27]\tvalidation_0-rmse:0.61369\n",
      "[28]\tvalidation_0-rmse:0.60020\n",
      "[29]\tvalidation_0-rmse:0.58653\n",
      "[30]\tvalidation_0-rmse:0.56915\n",
      "[31]\tvalidation_0-rmse:0.56075\n",
      "[32]\tvalidation_0-rmse:0.54703\n",
      "[33]\tvalidation_0-rmse:0.54025\n",
      "[34]\tvalidation_0-rmse:0.53196\n",
      "[35]\tvalidation_0-rmse:0.52521\n",
      "[36]\tvalidation_0-rmse:0.51918\n",
      "[37]\tvalidation_0-rmse:0.51461\n",
      "[38]\tvalidation_0-rmse:0.50945\n",
      "[39]\tvalidation_0-rmse:0.50347\n",
      "[40]\tvalidation_0-rmse:0.49984\n",
      "[41]\tvalidation_0-rmse:0.49731\n",
      "[42]\tvalidation_0-rmse:0.49460\n",
      "[43]\tvalidation_0-rmse:0.49199\n",
      "[44]\tvalidation_0-rmse:0.48757\n",
      "[45]\tvalidation_0-rmse:0.48407\n",
      "[46]\tvalidation_0-rmse:0.48172\n",
      "[47]\tvalidation_0-rmse:0.47532\n",
      "[48]\tvalidation_0-rmse:0.46923\n",
      "[49]\tvalidation_0-rmse:0.46756\n",
      "[50]\tvalidation_0-rmse:0.46641\n",
      "[51]\tvalidation_0-rmse:0.46119\n",
      "[52]\tvalidation_0-rmse:0.45591\n",
      "[53]\tvalidation_0-rmse:0.45223\n",
      "[54]\tvalidation_0-rmse:0.44775\n",
      "[55]\tvalidation_0-rmse:0.44546\n",
      "[56]\tvalidation_0-rmse:0.44308\n",
      "[57]\tvalidation_0-rmse:0.44113\n",
      "[58]\tvalidation_0-rmse:0.43660\n",
      "[59]\tvalidation_0-rmse:0.43399\n",
      "[60]\tvalidation_0-rmse:0.43142\n",
      "[61]\tvalidation_0-rmse:0.42938\n",
      "[62]\tvalidation_0-rmse:0.42792\n",
      "[63]\tvalidation_0-rmse:0.42526\n",
      "[64]\tvalidation_0-rmse:0.42399\n",
      "[65]\tvalidation_0-rmse:0.42068\n",
      "[66]\tvalidation_0-rmse:0.41779\n",
      "[67]\tvalidation_0-rmse:0.41650\n",
      "[68]\tvalidation_0-rmse:0.41584\n",
      "[69]\tvalidation_0-rmse:0.41311\n",
      "[70]\tvalidation_0-rmse:0.41064\n",
      "[71]\tvalidation_0-rmse:0.40969\n",
      "[72]\tvalidation_0-rmse:0.40750\n",
      "[73]\tvalidation_0-rmse:0.40607\n",
      "[74]\tvalidation_0-rmse:0.40428\n",
      "[75]\tvalidation_0-rmse:0.40340\n",
      "[76]\tvalidation_0-rmse:0.40306\n",
      "[77]\tvalidation_0-rmse:0.40229\n",
      "[78]\tvalidation_0-rmse:0.40096\n",
      "[79]\tvalidation_0-rmse:0.39852\n",
      "[80]\tvalidation_0-rmse:0.39564\n",
      "[81]\tvalidation_0-rmse:0.39430\n",
      "[82]\tvalidation_0-rmse:0.39397\n",
      "[83]\tvalidation_0-rmse:0.39264\n",
      "[84]\tvalidation_0-rmse:0.39175\n",
      "[85]\tvalidation_0-rmse:0.39132\n",
      "[86]\tvalidation_0-rmse:0.39105\n",
      "[87]\tvalidation_0-rmse:0.39072\n",
      "[88]\tvalidation_0-rmse:0.38949\n",
      "[89]\tvalidation_0-rmse:0.38928\n",
      "[90]\tvalidation_0-rmse:0.38850\n",
      "[91]\tvalidation_0-rmse:0.38735\n",
      "[92]\tvalidation_0-rmse:0.38713\n",
      "[93]\tvalidation_0-rmse:0.38675\n",
      "[94]\tvalidation_0-rmse:0.38433\n",
      "[95]\tvalidation_0-rmse:0.38391\n",
      "[96]\tvalidation_0-rmse:0.38349\n",
      "[97]\tvalidation_0-rmse:0.38243\n",
      "[98]\tvalidation_0-rmse:0.38021\n",
      "[99]\tvalidation_0-rmse:0.37977\n"
     ]
    },
    {
     "data": {
      "text/html": [
       "<style>#sk-container-id-1 {color: black;}#sk-container-id-1 pre{padding: 0;}#sk-container-id-1 div.sk-toggleable {background-color: white;}#sk-container-id-1 label.sk-toggleable__label {cursor: pointer;display: block;width: 100%;margin-bottom: 0;padding: 0.3em;box-sizing: border-box;text-align: center;}#sk-container-id-1 label.sk-toggleable__label-arrow:before {content: \"▸\";float: left;margin-right: 0.25em;color: #696969;}#sk-container-id-1 label.sk-toggleable__label-arrow:hover:before {color: black;}#sk-container-id-1 div.sk-estimator:hover label.sk-toggleable__label-arrow:before {color: black;}#sk-container-id-1 div.sk-toggleable__content {max-height: 0;max-width: 0;overflow: hidden;text-align: left;background-color: #f0f8ff;}#sk-container-id-1 div.sk-toggleable__content pre {margin: 0.2em;color: black;border-radius: 0.25em;background-color: #f0f8ff;}#sk-container-id-1 input.sk-toggleable__control:checked~div.sk-toggleable__content {max-height: 200px;max-width: 100%;overflow: auto;}#sk-container-id-1 input.sk-toggleable__control:checked~label.sk-toggleable__label-arrow:before {content: \"▾\";}#sk-container-id-1 div.sk-estimator input.sk-toggleable__control:checked~label.sk-toggleable__label {background-color: #d4ebff;}#sk-container-id-1 div.sk-label input.sk-toggleable__control:checked~label.sk-toggleable__label {background-color: #d4ebff;}#sk-container-id-1 input.sk-hidden--visually {border: 0;clip: rect(1px 1px 1px 1px);clip: rect(1px, 1px, 1px, 1px);height: 1px;margin: -1px;overflow: hidden;padding: 0;position: absolute;width: 1px;}#sk-container-id-1 div.sk-estimator {font-family: monospace;background-color: #f0f8ff;border: 1px dotted black;border-radius: 0.25em;box-sizing: border-box;margin-bottom: 0.5em;}#sk-container-id-1 div.sk-estimator:hover {background-color: #d4ebff;}#sk-container-id-1 div.sk-parallel-item::after {content: \"\";width: 100%;border-bottom: 1px solid gray;flex-grow: 1;}#sk-container-id-1 div.sk-label:hover label.sk-toggleable__label {background-color: #d4ebff;}#sk-container-id-1 div.sk-serial::before {content: \"\";position: absolute;border-left: 1px solid gray;box-sizing: border-box;top: 0;bottom: 0;left: 50%;z-index: 0;}#sk-container-id-1 div.sk-serial {display: flex;flex-direction: column;align-items: center;background-color: white;padding-right: 0.2em;padding-left: 0.2em;position: relative;}#sk-container-id-1 div.sk-item {position: relative;z-index: 1;}#sk-container-id-1 div.sk-parallel {display: flex;align-items: stretch;justify-content: center;background-color: white;position: relative;}#sk-container-id-1 div.sk-item::before, #sk-container-id-1 div.sk-parallel-item::before {content: \"\";position: absolute;border-left: 1px solid gray;box-sizing: border-box;top: 0;bottom: 0;left: 50%;z-index: -1;}#sk-container-id-1 div.sk-parallel-item {display: flex;flex-direction: column;z-index: 1;position: relative;background-color: white;}#sk-container-id-1 div.sk-parallel-item:first-child::after {align-self: flex-end;width: 50%;}#sk-container-id-1 div.sk-parallel-item:last-child::after {align-self: flex-start;width: 50%;}#sk-container-id-1 div.sk-parallel-item:only-child::after {width: 0;}#sk-container-id-1 div.sk-dashed-wrapped {border: 1px dashed gray;margin: 0 0.4em 0.5em 0.4em;box-sizing: border-box;padding-bottom: 0.4em;background-color: white;}#sk-container-id-1 div.sk-label label {font-family: monospace;font-weight: bold;display: inline-block;line-height: 1.2em;}#sk-container-id-1 div.sk-label-container {text-align: center;}#sk-container-id-1 div.sk-container {/* jupyter's `normalize.less` sets `[hidden] { display: none; }` but bootstrap.min.css set `[hidden] { display: none !important; }` so we also need the `!important` here to be able to override the default hidden behavior on the sphinx rendered scikit-learn.org. See: https://github.com/scikit-learn/scikit-learn/issues/21755 */display: inline-block !important;position: relative;}#sk-container-id-1 div.sk-text-repr-fallback {display: none;}</style><div id=\"sk-container-id-1\" class=\"sk-top-container\"><div class=\"sk-text-repr-fallback\"><pre>XGBRegressor(base_score=None, booster=None, callbacks=None,\n",
       "             colsample_bylevel=None, colsample_bynode=None,\n",
       "             colsample_bytree=None, device=None, early_stopping_rounds=None,\n",
       "             enable_categorical=False, eval_metric=None, feature_types=None,\n",
       "             gamma=None, grow_policy=None, importance_type=None,\n",
       "             interaction_constraints=None, learning_rate=0.1, max_bin=None,\n",
       "             max_cat_threshold=None, max_cat_to_onehot=None,\n",
       "             max_delta_step=None, max_depth=5, max_leaves=None,\n",
       "             min_child_weight=None, missing=nan, monotone_constraints=None,\n",
       "             multi_strategy=None, n_estimators=100, n_jobs=None,\n",
       "             num_parallel_tree=None, random_state=None, ...)</pre><b>In a Jupyter environment, please rerun this cell to show the HTML representation or trust the notebook. <br />On GitHub, the HTML representation is unable to render, please try loading this page with nbviewer.org.</b></div><div class=\"sk-container\" hidden><div class=\"sk-item\"><div class=\"sk-estimator sk-toggleable\"><input class=\"sk-toggleable__control sk-hidden--visually\" id=\"sk-estimator-id-1\" type=\"checkbox\" checked><label for=\"sk-estimator-id-1\" class=\"sk-toggleable__label sk-toggleable__label-arrow\">XGBRegressor</label><div class=\"sk-toggleable__content\"><pre>XGBRegressor(base_score=None, booster=None, callbacks=None,\n",
       "             colsample_bylevel=None, colsample_bynode=None,\n",
       "             colsample_bytree=None, device=None, early_stopping_rounds=None,\n",
       "             enable_categorical=False, eval_metric=None, feature_types=None,\n",
       "             gamma=None, grow_policy=None, importance_type=None,\n",
       "             interaction_constraints=None, learning_rate=0.1, max_bin=None,\n",
       "             max_cat_threshold=None, max_cat_to_onehot=None,\n",
       "             max_delta_step=None, max_depth=5, max_leaves=None,\n",
       "             min_child_weight=None, missing=nan, monotone_constraints=None,\n",
       "             multi_strategy=None, n_estimators=100, n_jobs=None,\n",
       "             num_parallel_tree=None, random_state=None, ...)</pre></div></div></div></div></div>"
      ],
      "text/plain": [
       "XGBRegressor(base_score=None, booster=None, callbacks=None,\n",
       "             colsample_bylevel=None, colsample_bynode=None,\n",
       "             colsample_bytree=None, device=None, early_stopping_rounds=None,\n",
       "             enable_categorical=False, eval_metric=None, feature_types=None,\n",
       "             gamma=None, grow_policy=None, importance_type=None,\n",
       "             interaction_constraints=None, learning_rate=0.1, max_bin=None,\n",
       "             max_cat_threshold=None, max_cat_to_onehot=None,\n",
       "             max_delta_step=None, max_depth=5, max_leaves=None,\n",
       "             min_child_weight=None, missing=nan, monotone_constraints=None,\n",
       "             multi_strategy=None, n_estimators=100, n_jobs=None,\n",
       "             num_parallel_tree=None, random_state=None, ...)"
      ]
     },
     "execution_count": 6,
     "metadata": {},
     "output_type": "execute_result"
    }
   ],
   "source": [
    "# Explanation of Hyperparameter Choices:\n",
    "# learning_rate=0.1: A starting point that allows the model to learn sufficiently from each tree without fitting the training data too quickly.\n",
    "# max_depth=5: Prevents the trees from becoming too deep, which could lead to overfitting on the training data.\n",
    "# n_estimators=100: Provides a baseline number of trees to start with. The early_stopping_rounds parameter will prevent overfitting by stopping the addition of trees when the validation score stops improving.\n",
    "# subsample=0.8 and colsample_bytree=0.8: Using a fraction of the data and features for each tree helps in making the model more robust and preventing overfitting."
   ]
  },
  {
   "cell_type": "code",
   "execution_count": 31,
   "id": "8bd08159",
   "metadata": {
    "pycharm": {
     "name": "#%%\n"
    }
   },
   "outputs": [],
   "source": [
    "# Step 5: Model Evaluation"
   ]
  },
  {
   "cell_type": "code",
   "execution_count": 32,
   "id": "f1123d80",
   "metadata": {
    "pycharm": {
     "name": "#%%\n"
    }
   },
   "outputs": [
    {
     "name": "stdout",
     "output_type": "stream",
     "text": [
      "Test RMSE: 0.454855966204599\n"
     ]
    }
   ],
   "source": [
    "predictions = model.predict(X_test)\n",
    "mse = mean_squared_error(y_test, predictions)\n",
    "rmse = np.sqrt(mse)\n",
    "print(f\"Test RMSE: {rmse}\")\n"
   ]
  }
 ],
 "metadata": {
  "kernelspec": {
   "display_name": "Python 3 (ipykernel)",
   "language": "python",
   "name": "python3"
  },
  "language_info": {
   "codemirror_mode": {
    "name": "ipython",
    "version": 3
   },
   "file_extension": ".py",
   "mimetype": "text/x-python",
   "name": "python",
   "nbconvert_exporter": "python",
   "pygments_lexer": "ipython3",
   "version": "3.8.9"
  }
 },
 "nbformat": 4,
 "nbformat_minor": 5
}